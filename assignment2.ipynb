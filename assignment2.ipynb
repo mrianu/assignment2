{
 "cells": [
  {
   "cell_type": "code",
   "execution_count": 5,
   "id": "9a2f8dd3-20d7-4a2b-85d4-4d337ed7b6b9",
   "metadata": {},
   "outputs": [],
   "source": [
    "import numpy as np"
   ]
  },
  {
   "cell_type": "markdown",
   "id": "834f7890-fc7b-4c51-b2a8-197eba0d7a1b",
   "metadata": {},
   "source": [
    "### `Array Creation "
   ]
  },
  {
   "cell_type": "markdown",
   "id": "d92768da-1b39-4eda-a362-9545d5a06bdf",
   "metadata": {},
   "source": [
    "Create a 1-dimensional array of integers from 1 to 10."
   ]
  },
  {
   "cell_type": "code",
   "execution_count": 13,
   "id": "6694c37a-f340-4530-b22c-180af98c65aa",
   "metadata": {},
   "outputs": [
    {
     "name": "stdout",
     "output_type": "stream",
     "text": [
      "[ 1  2  3  4  5  6  7  8  9 10]\n"
     ]
    }
   ],
   "source": [
    "a=np.array([1,2,3,4,5,6,7,8,9,10])\n",
    "print(a)"
   ]
  },
  {
   "cell_type": "code",
   "execution_count": 7,
   "id": "85b8c108-e115-42b0-9693-4ee6db3f1dae",
   "metadata": {},
   "outputs": [
    {
     "name": "stdout",
     "output_type": "stream",
     "text": [
      "[ 1  2  3  4  5  6  7  8  9 10]\n"
     ]
    }
   ],
   "source": [
    "array=np.arange(1,11)\n",
    "print(array)"
   ]
  },
  {
   "cell_type": "markdown",
   "id": "3f70bf9b-8cfe-4a15-aabe-7541e898aec8",
   "metadata": {},
   "source": [
    "Create a 2-dimensional array with random float values of shape (3, 4)."
   ]
  },
  {
   "cell_type": "code",
   "execution_count": 14,
   "id": "360c24dd-427c-467f-82c7-5553cf1290ca",
   "metadata": {},
   "outputs": [
    {
     "name": "stdout",
     "output_type": "stream",
     "text": [
      "[[0.98930171 0.61806428 0.90310387 0.41575744]\n",
      " [0.30904488 0.9630218  0.28071854 0.51410677]\n",
      " [0.67507003 0.26992686 0.66785742 0.01321284]]\n"
     ]
    }
   ],
   "source": [
    "array_2d=np.random.random((3,4))\n",
    "print(array_2d)"
   ]
  },
  {
   "cell_type": "markdown",
   "id": "976dc94f-3d74-4389-8643-182f82947399",
   "metadata": {},
   "source": [
    "Create a 3-dimensional array of zeros (2,3,4)."
   ]
  },
  {
   "cell_type": "code",
   "execution_count": 19,
   "id": "dfb751f8-e487-4dc4-a4dd-cdf04c54155b",
   "metadata": {},
   "outputs": [
    {
     "name": "stdout",
     "output_type": "stream",
     "text": [
      "[[[0. 0. 0. 0.]\n",
      "  [0. 0. 0. 0.]\n",
      "  [0. 0. 0. 0.]]\n",
      "\n",
      " [[0. 0. 0. 0.]\n",
      "  [0. 0. 0. 0.]\n",
      "  [0. 0. 0. 0.]]]\n"
     ]
    }
   ],
   "source": [
    "array_3d=np.zeros((2,3,4))\n",
    "print(array_3d)"
   ]
  },
  {
   "cell_type": "markdown",
   "id": "c93d6fc8-a1ab-4d50-95fd-bf8436953899",
   "metadata": {},
   "source": [
    "### Array Operations"
   ]
  },
  {
   "cell_type": "markdown",
   "id": "86658f34-e74e-4ccb-9fbd-640bd7f3cda5",
   "metadata": {},
   "source": [
    "Given two 1-dimensional arrays, perform element-wise addition,subtraction, multiplication, and division."
   ]
  },
  {
   "cell_type": "code",
   "execution_count": 20,
   "id": "2a847ca5-b0aa-4b9f-9e82-7769d5d79c77",
   "metadata": {},
   "outputs": [],
   "source": [
    "a=np.array([1,2,3,4,5])\n",
    "b=np.array([10,15,20,25,30])\n"
   ]
  },
  {
   "cell_type": "code",
   "execution_count": 22,
   "id": "f4013348-4412-4572-8a94-a7d988559c4c",
   "metadata": {},
   "outputs": [
    {
     "name": "stdout",
     "output_type": "stream",
     "text": [
      "[11 17 23 29 35]\n"
     ]
    }
   ],
   "source": [
    "sum=a+b\n",
    "print(sum)"
   ]
  },
  {
   "cell_type": "code",
   "execution_count": 23,
   "id": "80c97ab9-2c1d-4e44-aa03-7ddfe0638ce0",
   "metadata": {},
   "outputs": [
    {
     "name": "stdout",
     "output_type": "stream",
     "text": [
      "[11 17 23 29 35]\n"
     ]
    }
   ],
   "source": [
    "sum=np.add(a,b)\n",
    "print(sum)"
   ]
  },
  {
   "cell_type": "code",
   "execution_count": 26,
   "id": "a4d226ab-658f-467f-a70b-bcbf89ff6a80",
   "metadata": {},
   "outputs": [
    {
     "name": "stdout",
     "output_type": "stream",
     "text": [
      "[ 9 13 17 21 25]\n"
     ]
    }
   ],
   "source": [
    "sub=b-a\n",
    "print(sub)"
   ]
  },
  {
   "cell_type": "code",
   "execution_count": 27,
   "id": "37e9451e-5b4a-4e64-89f4-1a901481e488",
   "metadata": {},
   "outputs": [
    {
     "name": "stdout",
     "output_type": "stream",
     "text": [
      "[ 10  30  60 100 150]\n"
     ]
    }
   ],
   "source": [
    "mul=a*b\n",
    "print(mul)"
   ]
  },
  {
   "cell_type": "code",
   "execution_count": 28,
   "id": "0a44637e-3b40-4eb6-af26-7f0f82a1aa47",
   "metadata": {},
   "outputs": [
    {
     "name": "stdout",
     "output_type": "stream",
     "text": [
      "[10.          7.5         6.66666667  6.25        6.        ]\n"
     ]
    }
   ],
   "source": [
    "div=b/a\n",
    "print(div)"
   ]
  },
  {
   "cell_type": "markdown",
   "id": "3e215548-c3eb-4499-b2a2-fd49a17b6eb5",
   "metadata": {},
   "source": [
    "Calculate the mean, median, and standard deviation of a given 1-\n",
    "dimensional array."
   ]
  },
  {
   "cell_type": "code",
   "execution_count": 29,
   "id": "241dd553-687f-454c-9b65-861a6a09a785",
   "metadata": {},
   "outputs": [],
   "source": [
    "a1=np.array([2,4,6,8,10,12,14,16,18,20])\n"
   ]
  },
  {
   "cell_type": "code",
   "execution_count": 31,
   "id": "9349037c-e3b8-489c-a7ab-ac37f4c615a2",
   "metadata": {},
   "outputs": [
    {
     "name": "stdout",
     "output_type": "stream",
     "text": [
      "11.0\n"
     ]
    }
   ],
   "source": [
    "mean=np.mean(a1)\n",
    "print(mean)"
   ]
  },
  {
   "cell_type": "code",
   "execution_count": 32,
   "id": "5f2421b9-4841-42b0-b6b7-3723dded5228",
   "metadata": {},
   "outputs": [
    {
     "name": "stdout",
     "output_type": "stream",
     "text": [
      "11.0\n"
     ]
    }
   ],
   "source": [
    "median=np.median(a1)\n",
    "print(median)"
   ]
  },
  {
   "cell_type": "code",
   "execution_count": 33,
   "id": "3d9c33a2-d0b5-4ae5-99c4-b0ee97060f34",
   "metadata": {},
   "outputs": [
    {
     "name": "stdout",
     "output_type": "stream",
     "text": [
      "5.744562646538029\n"
     ]
    }
   ],
   "source": [
    "sd=np.std(a1)\n",
    "print(sd)"
   ]
  },
  {
   "cell_type": "markdown",
   "id": "678f08c4-2d04-4fe3-8599-c8c1b393b04b",
   "metadata": {},
   "source": [
    "Reshape a 1-dimensional array into a 2-dimensional array of shape (3,\n",
    "4)."
   ]
  },
  {
   "cell_type": "code",
   "execution_count": 34,
   "id": "5db9e032-dcfb-48fc-af88-7d8aebcf79b9",
   "metadata": {},
   "outputs": [
    {
     "name": "stdout",
     "output_type": "stream",
     "text": [
      "[[ 1  2  3  4]\n",
      " [ 5  6  7  8]\n",
      " [ 9 10 11 12]]\n"
     ]
    }
   ],
   "source": [
    "b1=np.array([1,2,3,4,5,6,7,8,9,10,11,12])\n",
    "c1=b1.reshape(3,4)\n",
    "print(c1)"
   ]
  },
  {
   "cell_type": "markdown",
   "id": "bcad1bb3-b1a0-433d-af9d-17d7f4ca5253",
   "metadata": {},
   "source": [
    "### Array Indexing and Slicing:"
   ]
  },
  {
   "cell_type": "markdown",
   "id": "f7bfa765-4856-4c36-917f-5d2124cfcec4",
   "metadata": {},
   "source": [
    "Extract the first row and last column of a 2-dimensional array."
   ]
  },
  {
   "cell_type": "code",
   "execution_count": 37,
   "id": "9fd22270-fbeb-4d78-af17-4a8c568fe001",
   "metadata": {},
   "outputs": [
    {
     "name": "stdout",
     "output_type": "stream",
     "text": [
      "[1 2 3 4]\n"
     ]
    }
   ],
   "source": [
    "first_row=c1[0,:]\n",
    "print(first_row)"
   ]
  },
  {
   "cell_type": "code",
   "execution_count": 40,
   "id": "fe659133-0541-40d9-a534-ea79ec7a905c",
   "metadata": {},
   "outputs": [
    {
     "name": "stdout",
     "output_type": "stream",
     "text": [
      "[ 4  8 12]\n"
     ]
    }
   ],
   "source": [
    "last_column=c1[:,-1]\n",
    "print(last_column)"
   ]
  },
  {
   "cell_type": "code",
   "execution_count": 43,
   "id": "314e1f5e-db7d-45d1-b1f5-e9638067aa0b",
   "metadata": {},
   "outputs": [
    {
     "name": "stdout",
     "output_type": "stream",
     "text": [
      "[ 9 10 11 12]\n"
     ]
    }
   ],
   "source": [
    "last_row=c1[2,:]\n",
    "print(last_row)"
   ]
  },
  {
   "cell_type": "markdown",
   "id": "757ef12c-24d4-4e6a-acd1-9231246bab40",
   "metadata": {},
   "source": [
    "Reverse the order of elements in a 1-dimensional array."
   ]
  },
  {
   "cell_type": "code",
   "execution_count": 61,
   "id": "afc900ad-c1e3-4617-950e-68b1b51b07d3",
   "metadata": {},
   "outputs": [
    {
     "name": "stdout",
     "output_type": "stream",
     "text": [
      "reversed array is : [12 11 10  9  8  7  6  5  4  3  2  1]\n"
     ]
    }
   ],
   "source": [
    "reversed_arr=np.flip(b1)\n",
    "print(\"reversed array is :\",reversed_arr)"
   ]
  },
  {
   "cell_type": "code",
   "execution_count": 45,
   "id": "d6090815-4405-4693-a285-552a28cf3387",
   "metadata": {},
   "outputs": [
    {
     "name": "stdout",
     "output_type": "stream",
     "text": [
      "[12 11 10  9  8  7  6  5  4  3  2  1]\n"
     ]
    }
   ],
   "source": [
    "reversed_array=b1[::-1]\n",
    "print(reversed_array)"
   ]
  },
  {
   "cell_type": "markdown",
   "id": "bae425d2-3355-44b2-af05-bf6916beb68e",
   "metadata": {},
   "source": [
    "\n",
    "Select elements from a 2-dimensional array that satisfy a specific\n",
    "condition (e.g., values greater than a certain threshold)."
   ]
  },
  {
   "cell_type": "code",
   "execution_count": 47,
   "id": "ad0b10de-9857-4166-b448-d16dd0f9bc9c",
   "metadata": {},
   "outputs": [
    {
     "name": "stdout",
     "output_type": "stream",
     "text": [
      "Selected elements greater than 8 :\n",
      "[ 9 10 11 12]\n"
     ]
    }
   ],
   "source": [
    "threshold=8\n",
    "greater_value=c1>threshold\n",
    "result=c1[greater_value]\n",
    "print(\"Selected elements greater than\", threshold, \":\")\n",
    "print(result)"
   ]
  },
  {
   "cell_type": "markdown",
   "id": "e31e95ab-88e4-4f35-bff9-96b1c42410f3",
   "metadata": {},
   "source": [
    "### Array Broadcasting:"
   ]
  },
  {
   "cell_type": "markdown",
   "id": "a85192b0-b5d3-4400-a8b4-5e3f80bace40",
   "metadata": {},
   "source": [
    "Add a scalar value to each element of a 2-dimensional array."
   ]
  },
  {
   "cell_type": "code",
   "execution_count": 49,
   "id": "2b39bef8-4cec-4cf7-a9b0-75a83d4bb32f",
   "metadata": {},
   "outputs": [
    {
     "name": "stdout",
     "output_type": "stream",
     "text": [
      "result after scalar value is added as :\n",
      "[[16 17 18 19]\n",
      " [20 21 22 23]\n",
      " [24 25 26 27]]\n"
     ]
    }
   ],
   "source": [
    "scalar_value=15\n",
    "added_value=c1+scalar_value\n",
    "print(\"result after scalar value is added as :\")\n",
    "print(added_value)"
   ]
  },
  {
   "cell_type": "markdown",
   "id": "ef200991-bcf7-4a66-8006-9e177e8f6fc6",
   "metadata": {},
   "source": [
    "Multiply a 1-dimensional array with a 2-dimensional array, leveraging\n",
    "NumPy's broadcasting rules."
   ]
  },
  {
   "cell_type": "code",
   "execution_count": 50,
   "id": "f80bb612-7e85-4000-9667-5890035fa044",
   "metadata": {},
   "outputs": [
    {
     "name": "stdout",
     "output_type": "stream",
     "text": [
      "[[ 7 16 27]\n",
      " [28 40 54]]\n"
     ]
    }
   ],
   "source": [
    "x=np.array([[1,2,3],[4,5,6]])\n",
    "y=np.array([7,8,9])\n",
    "z=x*y\n",
    "print(z)"
   ]
  },
  {
   "cell_type": "markdown",
   "id": "c3c48cbd-dc73-4bb5-b25f-2fb8751d6071",
   "metadata": {},
   "source": [
    "### Linear Algebra:"
   ]
  },
  {
   "cell_type": "markdown",
   "id": "2aa40b9b-300e-4669-af8e-4b1a6182573c",
   "metadata": {},
   "source": [
    "Calculate the dot product of two 1-dimensional arrays."
   ]
  },
  {
   "cell_type": "code",
   "execution_count": 52,
   "id": "03863e95-8a1b-41a9-9ba8-22f2b2a82976",
   "metadata": {},
   "outputs": [
    {
     "name": "stdout",
     "output_type": "stream",
     "text": [
      "dot product is:\n",
      "32\n"
     ]
    }
   ],
   "source": [
    "x1= np.array([1, 2, 3])\n",
    "y1=np.array([4,5,6])\n",
    "z1=np.dot(x1,y1)\n",
    "print(\"dot product is:\")\n",
    "print(z1)"
   ]
  },
  {
   "cell_type": "markdown",
   "id": "a4fcd772-5f6b-4f07-bfed-383617aee40f",
   "metadata": {},
   "source": [
    "Compute the matrix multiplication of two 2-dimensional arrays."
   ]
  },
  {
   "cell_type": "code",
   "execution_count": 53,
   "id": "39f7f790-1de3-4bfc-a3b0-b9f8c419b483",
   "metadata": {},
   "outputs": [
    {
     "name": "stdout",
     "output_type": "stream",
     "text": [
      "matrix multiplication:\n",
      "[[ 27  30  33]\n",
      " [ 61  68  75]\n",
      " [ 95 106 117]]\n"
     ]
    }
   ],
   "source": [
    "x1_2d= np.array([[1, 2],\n",
    "                   [3, 4],\n",
    "                   [5, 6]])\n",
    "\n",
    "y1_2d=np.array([[7, 8, 9],\n",
    "                   [10, 11, 12]])\n",
    "\n",
    "z1_2d=np.dot(x1_2d,y1_2d)\n",
    "print(\"matrix multiplication:\")\n",
    "print(z1_2d)"
   ]
  },
  {
   "cell_type": "markdown",
   "id": "79cab261-8580-4505-b3bb-bd9245426663",
   "metadata": {},
   "source": [
    "Find the inverse and determinant of a square matrix."
   ]
  },
  {
   "cell_type": "code",
   "execution_count": 58,
   "id": "ede93dfc-0874-40f2-98ed-9dfabac88516",
   "metadata": {},
   "outputs": [
    {
     "name": "stdout",
     "output_type": "stream",
     "text": [
      "inverse matrix is :\n",
      "[[ 3.15251974e+15 -6.30503948e+15  3.15251974e+15]\n",
      " [-6.30503948e+15  1.26100790e+16 -6.30503948e+15]\n",
      " [ 3.15251974e+15 -6.30503948e+15  3.15251974e+15]]\n"
     ]
    }
   ],
   "source": [
    "matrix = np.array([[1, 2, 3],\n",
    "                   [4, 5, 6],\n",
    "                   [7, 8, 9]])\n",
    "matrix_inverse=np.linalg.inv(matrix)\n",
    "print(\"inverse matrix is :\")\n",
    "print(matrix_inverse)"
   ]
  },
  {
   "cell_type": "code",
   "execution_count": 62,
   "id": "6795c5c1-dda1-47bf-8bb7-a4412d00c656",
   "metadata": {},
   "outputs": [
    {
     "name": "stdout",
     "output_type": "stream",
     "text": [
      "Determinant of the matrix: -9.51619735392994e-16\n"
     ]
    }
   ],
   "source": [
    "matrix_determinant = np.linalg.det(matrix)\n",
    "print(\"Determinant of the matrix:\", matrix_determinant)"
   ]
  },
  {
   "cell_type": "code",
   "execution_count": null,
   "id": "c641c54c-7a35-4648-a429-910faad9fe32",
   "metadata": {},
   "outputs": [],
   "source": []
  }
 ],
 "metadata": {
  "kernelspec": {
   "display_name": "Python 3 (ipykernel)",
   "language": "python",
   "name": "python3"
  },
  "language_info": {
   "codemirror_mode": {
    "name": "ipython",
    "version": 3
   },
   "file_extension": ".py",
   "mimetype": "text/x-python",
   "name": "python",
   "nbconvert_exporter": "python",
   "pygments_lexer": "ipython3",
   "version": "3.11.7"
  }
 },
 "nbformat": 4,
 "nbformat_minor": 5
}
